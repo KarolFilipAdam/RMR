{
 "cells": [
  {
   "cell_type": "code",
   "execution_count": 8,
   "id": "c0de55fe-e802-4e63-9474-ddb7f0ee6043",
   "metadata": {},
   "outputs": [
    {
     "name": "stdout",
     "output_type": "stream",
     "text": [
      "Binary image 'map_binary_image.png' created successfully.\n"
     ]
    }
   ],
   "source": [
    "import cv2\n",
    "import numpy as np\n",
    "\n",
    "def create_binary_image_from_txt(txt_file, output_image, scale_factor=10):\n",
    "    # Read the text file\n",
    "    with open(txt_file, 'r') as file:\n",
    "        lines = file.readlines()\n",
    "\n",
    "    # Determine image dimensions\n",
    "    height = len(lines)\n",
    "    width = len(lines[0].strip())\n",
    "\n",
    "    # Scale up the dimensions\n",
    "    new_height = height * scale_factor\n",
    "    new_width = width * scale_factor\n",
    "\n",
    "    # Create an empty image\n",
    "    image = np.zeros((new_height, new_width), dtype=np.uint8)  # Initialize with zeros\n",
    "\n",
    "    # Fill image with corresponding colors\n",
    "    for y, line in enumerate(lines):\n",
    "        for x, char in enumerate(line.strip()):\n",
    "            if char == '#':\n",
    "                image[y * scale_factor:(y + 1) * scale_factor, x * scale_factor:(x + 1) * scale_factor] = 255\n",
    "\n",
    "    # Save the binary image\n",
    "    cv2.imwrite(output_image, image)\n",
    "\n",
    "# Example usage:\n",
    "txt_file = 'newFile.txt'  # Replace 'map.txt' with your text file containing the map\n",
    "output_image = 'map_binary_image.png'  # Output image file name\n",
    "create_binary_image_from_txt(txt_file, output_image)\n",
    "print(f\"Binary image '{output_image}' created successfully.\")"
   ]
  },
  {
   "cell_type": "code",
   "execution_count": null,
   "id": "91c7bf92-de43-491d-92ce-d0db902da7e6",
   "metadata": {},
   "outputs": [],
   "source": []
  }
 ],
 "metadata": {
  "kernelspec": {
   "display_name": "Python 3 (ipykernel)",
   "language": "python",
   "name": "python3"
  },
  "language_info": {
   "codemirror_mode": {
    "name": "ipython",
    "version": 3
   },
   "file_extension": ".py",
   "mimetype": "text/x-python",
   "name": "python",
   "nbconvert_exporter": "python",
   "pygments_lexer": "ipython3",
   "version": "3.11.8"
  }
 },
 "nbformat": 4,
 "nbformat_minor": 5
}
